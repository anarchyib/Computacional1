{
 "cells": [
  {
   "cell_type": "code",
   "execution_count": 17,
   "metadata": {},
   "outputs": [],
   "source": [
    "#Vamos a crear un vectorfield con las ecuaciones de Van der Pol, basándonos en un código para las ecuaciones de Lotka-Volterra\n",
    "from numpy import *\n",
    "from scipy.integrate import odeint \n",
    "\n",
    "def dX_dt(w, t, p):\n",
    "    \n",
    "    x, y = w\n",
    "    \n",
    "    \n",
    "    \"\"\" Return the ecuation for the Van der Pol oscillator.  \"\"\"\n",
    "    f = [ y,  p * (1 - x ** 2) * y - x]\n",
    "    \n",
    "    return f"
   ]
  },
  {
   "cell_type": "code",
   "execution_count": 18,
   "metadata": {},
   "outputs": [],
   "source": [
    "#Ahora vamos a crear la gráfica de fase del Oscilador de Van der Pol cambiando los valores de mu desde 0.1 hasta 0.5\n",
    "#Para eso, vamos crear 8 documentos nuevos para poder modificar el valor de mu\n",
    "#Además, al momento de graficar debemos de volver a saltarnos 100 renglones para mostrar la fase de forma estable.\n",
    "\n",
    "#parametro 1\n",
    "mu = 0.1\n",
    "\n",
    "#variables\n",
    "x = 2\n",
    "y = -3\n",
    "\n",
    "# Parametros de la ED\n",
    "abserr = 1.0e-8\n",
    "relerr = 1.0e-6\n",
    "stoptime = 170.0\n",
    "numpoints = 5000\n",
    "\n",
    "t = [stoptime * float(i) / (numpoints - 1) for i in range(numpoints)]\n",
    "\n",
    "#Ponemos las variables del vector:\n",
    "w0 = [x, y]\n",
    "\n",
    "# Llamamos a la funcion para resolver la ED\n",
    "wsol = odeint(dX_dt, w0, t, args=(mu,),\n",
    "              atol=abserr, rtol=relerr)\n",
    "\n",
    "with open('Act8.9.dat', 'w') as f:\n",
    "    # Imprimimos en el documento la solución\n",
    "    for t1, w1 in zip(t, wsol):\n",
    "        print (t1, w1[0], w1[1], file=f)"
   ]
  },
  {
   "cell_type": "code",
   "execution_count": 19,
   "metadata": {},
   "outputs": [],
   "source": [
    "mu = 0.5\n",
    "\n",
    "x = 2\n",
    "y = -3\n",
    "\n",
    "w0 = [x, y]\n",
    "\n",
    "wsol = odeint(dX_dt, w0, t, args=(mu,),\n",
    "              atol=abserr, rtol=relerr)\n",
    "\n",
    "with open('Act8.10.dat', 'w') as f:\n",
    "    for t1, w1 in zip(t, wsol):\n",
    "        print (t1, w1[0], w1[1], file=f)"
   ]
  },
  {
   "cell_type": "code",
   "execution_count": 20,
   "metadata": {},
   "outputs": [],
   "source": [
    "mu = 1.0\n",
    "\n",
    "x = 2\n",
    "y = -3\n",
    "\n",
    "w0 = [x, y]\n",
    "\n",
    "\n",
    "wsol = odeint(dX_dt, w0, t, args=(mu,),\n",
    "              atol=abserr, rtol=relerr)\n",
    "\n",
    "with open('Act8.11.dat', 'w') as f:\n",
    "    for t1, w1 in zip(t, wsol):\n",
    "        print (t1, w1[0], w1[1], file=f)"
   ]
  },
  {
   "cell_type": "code",
   "execution_count": 21,
   "metadata": {},
   "outputs": [],
   "source": [
    "mu = 1.5\n",
    "\n",
    "x = 2\n",
    "y = -3\n",
    "\n",
    "w0 = [x, y]\n",
    "\n",
    "wsol = odeint(dX_dt, w0, t, args=(mu,),\n",
    "              atol=abserr, rtol=relerr)\n",
    "\n",
    "with open('Act8.12.dat', 'w') as f:\n",
    "    for t1, w1 in zip(t, wsol):\n",
    "        print (t1, w1[0], w1[1], file=f)"
   ]
  },
  {
   "cell_type": "code",
   "execution_count": 22,
   "metadata": {},
   "outputs": [],
   "source": [
    "mu = 2.0\n",
    "\n",
    "x = 2\n",
    "y = -3\n",
    "\n",
    "w0 = [x, y]\n",
    "\n",
    "wsol = odeint(dX_dt, w0, t, args=(mu,),\n",
    "              atol=abserr, rtol=relerr)\n",
    "\n",
    "with open('Act8.13.dat', 'w') as f:\n",
    "    for t1, w1 in zip(t, wsol):\n",
    "        print (t1, w1[0], w1[1], file=f)"
   ]
  },
  {
   "cell_type": "code",
   "execution_count": 23,
   "metadata": {},
   "outputs": [],
   "source": [
    "mu = 2.5\n",
    "\n",
    "x = 2\n",
    "y = -3\n",
    "\n",
    "w0 = [x, y]\n",
    "\n",
    "wsol = odeint(dX_dt, w0, t, args=(mu,),\n",
    "              atol=abserr, rtol=relerr)\n",
    "\n",
    "with open('Act8.14.dat', 'w') as f:\n",
    "    for t1, w1 in zip(t, wsol):\n",
    "        print (t1, w1[0], w1[1], file=f)"
   ]
  },
  {
   "cell_type": "code",
   "execution_count": 24,
   "metadata": {},
   "outputs": [],
   "source": [
    "mu = 2.5\n",
    "\n",
    "x = 2\n",
    "y = -3\n",
    "\n",
    "w0 = [x, y]\n",
    "\n",
    "wsol = odeint(dX_dt, w0, t, args=(mu,),\n",
    "              atol=abserr, rtol=relerr)\n",
    "\n",
    "with open('Act8.14.dat', 'w') as f:\n",
    "    for t1, w1 in zip(t, wsol):\n",
    "        print (t1, w1[0], w1[1], file=f)"
   ]
  },
  {
   "cell_type": "code",
   "execution_count": 28,
   "metadata": {},
   "outputs": [],
   "source": [
    "mu = 3.0\n",
    "\n",
    "x = 2\n",
    "y = -3\n",
    "\n",
    "w0 = [x, y]\n",
    "\n",
    "wsol = odeint(dX_dt, w0, t, args=(mu,),\n",
    "              atol=abserr, rtol=relerr)\n",
    "\n",
    "with open('Act8.15.dat', 'w') as f:\n",
    "    for t1, w1 in zip(t, wsol):\n",
    "        print (t1, w1[0], w1[1], file=f)"
   ]
  },
  {
   "cell_type": "code",
   "execution_count": 29,
   "metadata": {},
   "outputs": [],
   "source": [
    "mu = 3.5\n",
    "\n",
    "x = 2\n",
    "y = -3\n",
    "\n",
    "w0 = [x, y]\n",
    "\n",
    "wsol = odeint(dX_dt, w0, t, args=(mu,),\n",
    "              atol=abserr, rtol=relerr)\n",
    "\n",
    "with open('Act8.16.dat', 'w') as f:\n",
    "    for t1, w1 in zip(t, wsol):\n",
    "        print (t1, w1[0], w1[1], file=f)"
   ]
  },
  {
   "cell_type": "code",
   "execution_count": 30,
   "metadata": {},
   "outputs": [],
   "source": [
    "mu = 4.0\n",
    "\n",
    "x = 2\n",
    "y = -3\n",
    "\n",
    "w0 = [x, y]\n",
    "\n",
    "wsol = odeint(dX_dt, w0, t, args=(mu,),\n",
    "              atol=abserr, rtol=relerr)\n",
    "\n",
    "with open('Act8.17.dat', 'w') as f:\n",
    "    for t1, w1 in zip(t, wsol):\n",
    "        print (t1, w1[0], w1[1], file=f)"
   ]
  },
  {
   "cell_type": "code",
   "execution_count": 31,
   "metadata": {},
   "outputs": [
    {
     "data": {
      "image/png": "[encoded data removed]",
      "text/plain": [
       "<matplotlib.figure.Figure at 0xcbcfad9b00>"
      ]
     },
     "metadata": {},
     "output_type": "display_data"
    }
   ],
   "source": [
    "from numpy import loadtxt\n",
    "from pylab import figure, plot, xlabel, xlim, ylim, ylabel, grid, hold, legend, title, savefig\n",
    "from matplotlib.font_manager import FontProperties\n",
    "%matplotlib inline\n",
    "\n",
    "f1 = figure(figsize = (4,8))\n",
    "\n",
    "t, x, y = loadtxt('Act8.9.dat', unpack=True, skiprows = 300)\n",
    "plot(x, y, 'b-')\n",
    "\n",
    "t, x, y = loadtxt('Act8.10.dat', unpack=True, skiprows = 300)\n",
    "plot(x, y, 'tab:cyan')\n",
    "\n",
    "t, x, y = loadtxt('Act8.11.dat', unpack=True, skiprows = 200)\n",
    "plot(x, y, 'tab:green')\n",
    "\n",
    "t, x, y = loadtxt('Act8.12.dat', unpack=True, skiprows = 200)\n",
    "plot(x, y, 'tab:pink')\n",
    "\n",
    "t, x, y = loadtxt('Act8.13.dat', unpack=True, skiprows = 150)\n",
    "plot(x, y, 'k-')\n",
    "\n",
    "t, x, y = loadtxt('Act8.14.dat', unpack=True, skiprows = 150)\n",
    "plot(x, y, 'tab:orange')\n",
    "\n",
    "t, x, y = loadtxt('Act8.15.dat', unpack=True, skiprows = 150)\n",
    "plot(x, y, 'y-')\n",
    "\n",
    "t, x, y = loadtxt('Act8.16.dat', unpack=True, skiprows = 150)\n",
    "plot(x, y, 'm-')\n",
    "\n",
    "t, x, y = loadtxt('Act8.17.dat', unpack=True, skiprows = 150)\n",
    "plot(x, y, 'tab:purple')\n",
    "\n",
    "figure(1, figsize=(10,4.5))\n",
    "grid()\n",
    "xlim(-3,3)\n",
    "ylim(-7, 7)\n",
    "xlabel('x')\n",
    "ylabel('y')\n",
    "title('Evolution of the limit cycle in the phase plane')\n",
    "f1.savefig('Image2.png')"
   ]
  },
  {
   "cell_type": "code",
   "execution_count": null,
   "metadata": {},
   "outputs": [],
   "source": []
  },
  {
   "cell_type": "code",
   "execution_count": null,
   "metadata": {},
   "outputs": [],
   "source": []
  },
  {
   "cell_type": "code",
   "execution_count": null,
   "metadata": {},
   "outputs": [],
   "source": []
  },
  {
   "cell_type": "code",
   "execution_count": null,
   "metadata": {},
   "outputs": [],
   "source": []
  }
 ],
 "metadata": {
  "kernelspec": {
   "display_name": "Python 3",
   "language": "python",
   "name": "python3"
  },
  "language_info": {
   "codemirror_mode": {
    "name": "ipython",
    "version": 3
   },
   "file_extension": ".py",
   "mimetype": "text/x-python",
   "name": "python",
   "nbconvert_exporter": "python",
   "pygments_lexer": "ipython3",
   "version": "3.6.3"
  }
 },
 "nbformat": 4,
 "nbformat_minor": 2
}
